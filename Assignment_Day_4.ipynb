{
  "nbformat": 4,
  "nbformat_minor": 0,
  "metadata": {
    "colab": {
      "provenance": [],
      "authorship_tag": "ABX9TyPtZEJQ+q8zbOv2i1w4X/i3",
      "include_colab_link": true
    },
    "kernelspec": {
      "name": "python3",
      "display_name": "Python 3"
    },
    "language_info": {
      "name": "python"
    }
  },
  "cells": [
    {
      "cell_type": "markdown",
      "metadata": {
        "id": "view-in-github",
        "colab_type": "text"
      },
      "source": [
        "<a href=\"https://colab.research.google.com/github/ASWATHYRR/DAY1/blob/main/Assignment_Day_4.ipynb\" target=\"_parent\"><img src=\"https://colab.research.google.com/assets/colab-badge.svg\" alt=\"Open In Colab\"/></a>"
      ]
    },
    {
      "cell_type": "markdown",
      "source": [
        "Question 1"
      ],
      "metadata": {
        "id": "jCc6ntzhuR-y"
      }
    },
    {
      "cell_type": "code",
      "source": [
        "num=6\n",
        "'secretnumber'==b\n",
        "while True:\n",
        "  b=int(input('enter a number between 1 and 10: '))\n",
        "  'guess'==b\n",
        "  if b==num:\n",
        "    print('Congratulations! You guessed the number correctly!')\n",
        "    break\n",
        "  elif b < num:\n",
        "    print('Too low! Try again.')\n",
        "  elif b > num:\n",
        "    print (\"Too high! Try again.\")\n",
        ""
      ],
      "metadata": {
        "colab": {
          "base_uri": "https://localhost:8080/"
        },
        "id": "pwX5QaXauXvk",
        "outputId": "3dd8059f-2320-405d-89d7-bd8e34100437"
      },
      "execution_count": 11,
      "outputs": [
        {
          "output_type": "stream",
          "name": "stdout",
          "text": [
            "enter a number between 1 and 10: 5\n",
            "Too low! Try again.\n",
            "enter a number between 1 and 10: 8\n",
            "Too high! Try again.\n",
            "enter a number between 1 and 10: 6\n",
            "Congratulations! You guessed the number correctly!\n"
          ]
        }
      ]
    },
    {
      "cell_type": "markdown",
      "source": [
        "question no 2"
      ],
      "metadata": {
        "id": "RTxOHiZMGHrr"
      }
    },
    {
      "cell_type": "code",
      "source": [
        "n=int(input('enter a positive number: '))\n",
        "fact=1\n",
        "for i in range (1,n+1):\n",
        "  fact = fact*i\n",
        "print('factorial of the number = ',fact)"
      ],
      "metadata": {
        "colab": {
          "base_uri": "https://localhost:8080/"
        },
        "id": "9TZRVIeAH0C3",
        "outputId": "a201e074-cd8f-461e-9986-7806739f1209"
      },
      "execution_count": 18,
      "outputs": [
        {
          "output_type": "stream",
          "name": "stdout",
          "text": [
            "enter a positive number: 4\n",
            "factorial of the number =  24\n"
          ]
        }
      ]
    },
    {
      "cell_type": "markdown",
      "source": [
        "question no 3"
      ],
      "metadata": {
        "id": "ccoarOnvNcjL"
      }
    },
    {
      "cell_type": "code",
      "source": [
        "L=int(input('enter the desired value: '))\n",
        "n=int(input('number of photos with you: '))\n",
        "i=0\n",
        "while i<n:\n",
        "   w=int(input('enter width'))\n",
        "   h=int(input('enter hight'))\n",
        "   if w<L or h<L:\n",
        "    print(\"UPLOAD ANOTHER\")\n",
        "   else:\n",
        "    if w==h and (w>=L and h>=L):\n",
        "     print ('ACCEPTED')\n",
        "    else:\n",
        "      print (\"CROP IT\" )\n",
        "\n",
        "   i+=1"
      ],
      "metadata": {
        "colab": {
          "base_uri": "https://localhost:8080/"
        },
        "id": "ZVWTj-i9NffR",
        "outputId": "57452de0-3e07-4382-cb32-0a6e77fd6589"
      },
      "execution_count": 29,
      "outputs": [
        {
          "output_type": "stream",
          "name": "stdout",
          "text": [
            "enter the desired value: 4\n",
            "number of photos with you: 3\n",
            "enter width4\n",
            "enter hight4\n",
            "ACCEPTED\n",
            "enter width3\n",
            "enter hight2\n",
            "UPLOAD ANOTHER\n",
            "enter width8\n",
            "enter hight8\n",
            "ACCEPTED\n",
            "enter width8\n",
            "enter hight7\n",
            "CROP IT\n"
          ]
        }
      ]
    }
  ]
}