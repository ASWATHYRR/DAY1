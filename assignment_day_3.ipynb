{
  "nbformat": 4,
  "nbformat_minor": 0,
  "metadata": {
    "colab": {
      "provenance": [],
      "authorship_tag": "ABX9TyMLgWKIPEFu3DOpnXO8/j0p",
      "include_colab_link": true
    },
    "kernelspec": {
      "name": "python3",
      "display_name": "Python 3"
    },
    "language_info": {
      "name": "python"
    }
  },
  "cells": [
    {
      "cell_type": "markdown",
      "metadata": {
        "id": "view-in-github",
        "colab_type": "text"
      },
      "source": [
        "<a href=\"https://colab.research.google.com/github/ASWATHYRR/DAY1/blob/main/assignment_day_3.ipynb\" target=\"_parent\"><img src=\"https://colab.research.google.com/assets/colab-badge.svg\" alt=\"Open In Colab\"/></a>"
      ]
    },
    {
      "cell_type": "markdown",
      "source": [
        "#question 1"
      ],
      "metadata": {
        "id": "aqiJ9neVZvOb"
      }
    },
    {
      "cell_type": "code",
      "source": [
        "a=[50,92,99,74,48,96]\n",
        "b=list(a)\n",
        "b.sort()\n",
        "print(b[-2])"
      ],
      "metadata": {
        "colab": {
          "base_uri": "https://localhost:8080/"
        },
        "id": "laUhyW-pZ9PV",
        "outputId": "5e9d264b-c1d7-4102-8996-a223443a7f04"
      },
      "execution_count": 3,
      "outputs": [
        {
          "output_type": "stream",
          "name": "stdout",
          "text": [
            "96\n"
          ]
        }
      ]
    },
    {
      "cell_type": "markdown",
      "source": [
        "question 2\n"
      ],
      "metadata": {
        "id": "6J54DPwCdafO"
      }
    },
    {
      "cell_type": "code",
      "source": [
        " D = {'John': [25,32,43],'Peter':[87,55,96],'Ram':[58,55,43],'Meena':[63,79,85]}\n",
        " b=str(input('enter your name: '))\n",
        " if b in D:\n",
        "  D[b]=[88,77,99]\n",
        "  print (D)\n",
        "else:\n",
        "  print('Name Not Found')\n",
        "\n",
        "\n"
      ],
      "metadata": {
        "colab": {
          "base_uri": "https://localhost:8080/"
        },
        "id": "MS_iiDXSdi80",
        "outputId": "4e8e5645-fddd-4a86-fcd2-81f685ad205d"
      },
      "execution_count": 5,
      "outputs": [
        {
          "output_type": "stream",
          "name": "stdout",
          "text": [
            "enter your name: ram\n",
            "Name Not Found\n"
          ]
        }
      ]
    },
    {
      "cell_type": "code",
      "source": [
        "d = {'John': [25,32,43],'Peter':[87,55,96],'Ram':[58,55,43],'Meena':[63,79,85]}\n",
        "b=str(input('enter your name: '))\n",
        "if b in D:\n",
        "  d[b]=[88,77,99]\n",
        "  print (d)\n",
        "else:\n",
        "  print('Name Not Found')"
      ],
      "metadata": {
        "colab": {
          "base_uri": "https://localhost:8080/"
        },
        "id": "1DCMeQzZezAC",
        "outputId": "c1880a7a-d9e5-42d9-fc81-80db3efa74d8"
      },
      "execution_count": 9,
      "outputs": [
        {
          "output_type": "stream",
          "name": "stdout",
          "text": [
            "enter your name: Ram\n",
            "{'John': [25, 32, 43], 'Peter': [87, 55, 96], 'Ram': [88, 77, 99], 'Meena': [63, 79, 85]}\n"
          ]
        }
      ]
    },
    {
      "cell_type": "markdown",
      "source": [
        "question 3"
      ],
      "metadata": {
        "id": "f7YkmGrsiu0S"
      }
    },
    {
      "cell_type": "code",
      "source": [
        "a=int(input('enter your age : '))\n",
        "b=str(input('enter your gender : '))\n",
        "if a<5 and a>60:\n",
        "  print ('Ticket Price is Free')\n",
        "elif a>=5 and a<=12 and b=='female':\n",
        "  print ('Ticket Price is' ,  10/2)\n",
        "elif a>5 and a<=12 and b=='male':\n",
        "  print ('Ticket Charge is Rs.10')\n",
        "elif a>12 and b=='female':\n",
        "  print('Ticket Charge Is Rs.',50/2)\n",
        "else:\n",
        "    print('Ticket Charge is RS.50')\n",
        "\n",
        "\n",
        ""
      ],
      "metadata": {
        "colab": {
          "base_uri": "https://localhost:8080/"
        },
        "id": "jVqTJKFjixRR",
        "outputId": "bf9e3b54-f8c5-4de7-8ada-e813772b51cc"
      },
      "execution_count": 21,
      "outputs": [
        {
          "output_type": "stream",
          "name": "stdout",
          "text": [
            "enter your age : 15\n",
            "enter your gender : female\n",
            "Ticket Charge Is Rs. 25.0\n"
          ]
        }
      ]
    },
    {
      "cell_type": "code",
      "source": [
        "a=int(input('enter your age : '))\n",
        "b=str(input('enter your gender : '))\n",
        "if a<5 and a>60:\n",
        "  print ('Ticket Price is Free')\n",
        "elif a>=5 and a<=12 and b=='female':\n",
        "  print ('Ticket Price is' ,  10/2)\n",
        "elif a>5 and a<=12 and b=='male':\n",
        "  print ('Ticket Charge is Rs.10')\n",
        "elif a>12 and b=='female':\n",
        "  print('Ticket Charge Is Rs.',50/2)\n",
        "else:\n",
        "    print('Ticket Charge is RS.50')"
      ],
      "metadata": {
        "colab": {
          "base_uri": "https://localhost:8080/"
        },
        "id": "-rGSVbLApAFu",
        "outputId": "61063dd4-473e-415f-d4f1-4c81106991c2"
      },
      "execution_count": 22,
      "outputs": [
        {
          "output_type": "stream",
          "name": "stdout",
          "text": [
            "enter your age : 10\n",
            "enter your gender : male\n",
            "Ticket Charge is Rs.10\n"
          ]
        }
      ]
    },
    {
      "cell_type": "code",
      "source": [],
      "metadata": {
        "id": "R0y1KCi4o95H"
      },
      "execution_count": null,
      "outputs": []
    }
  ]
}