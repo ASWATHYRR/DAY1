{
  "nbformat": 4,
  "nbformat_minor": 0,
  "metadata": {
    "colab": {
      "provenance": [],
      "include_colab_link": true
    },
    "kernelspec": {
      "name": "python3",
      "display_name": "Python 3"
    },
    "language_info": {
      "name": "python"
    }
  },
  "cells": [
    {
      "cell_type": "markdown",
      "metadata": {
        "id": "view-in-github",
        "colab_type": "text"
      },
      "source": [
        "<a href=\"https://colab.research.google.com/github/ASWATHYRR/DAY1/blob/main/day5_assignment.ipynb\" target=\"_parent\"><img src=\"https://colab.research.google.com/assets/colab-badge.svg\" alt=\"Open In Colab\"/></a>"
      ]
    },
    {
      "cell_type": "code",
      "execution_count": null,
      "metadata": {
        "id": "fMPA289-vekt"
      },
      "outputs": [],
      "source": []
    },
    {
      "cell_type": "markdown",
      "source": [
        "Assignment Day 5"
      ],
      "metadata": {
        "id": "B068mIYbvgRW"
      }
    },
    {
      "cell_type": "code",
      "source": [
        "def value(a,b,c):\n",
        "  if a>b:\n",
        "    if b>c:\n",
        "      return int(b)\n",
        "    elif a>c:\n",
        "      return int(c)\n",
        "    else:\n",
        "      return int(a)\n",
        "  else:\n",
        "    if a>c:\n",
        "      return int(a)\n",
        "    elif b>c:\n",
        "      return int(c)\n",
        "    else:\n",
        "      return int(b)\n"
      ],
      "metadata": {
        "id": "tisfFJ1pvjwF"
      },
      "execution_count": null,
      "outputs": []
    },
    {
      "cell_type": "code",
      "source": [
        "a=int(input('Enter the first value: '))\n",
        "b=int(input('Enter the second value: '))\n",
        "c=int(input('Enter the third value: '))\n",
        "print('Middile value = ',value(a,b,c))\n"
      ],
      "metadata": {
        "colab": {
          "base_uri": "https://localhost:8080/"
        },
        "id": "UGQcRO1byWvS",
        "outputId": "868d105a-0c32-4175-9104-92d5af34cabf"
      },
      "execution_count": null,
      "outputs": [
        {
          "output_type": "stream",
          "name": "stdout",
          "text": [
            "Enter the first value: 20\n",
            "Enter the second value: 30\n",
            "Enter the third value: 40\n",
            "Middile value =  30\n"
          ]
        }
      ]
    },
    {
      "cell_type": "code",
      "source": [
        "a=int(input('Enter the first value: '))\n",
        "b=int(input('Enter the second value: '))\n",
        "c=int(input('Enter the third value: '))\n",
        "print('Middile value = ',value(a,b,c))"
      ],
      "metadata": {
        "colab": {
          "base_uri": "https://localhost:8080/"
        },
        "id": "8URYKO1v2-Yg",
        "outputId": "76e8eb6e-efe1-4a88-ebc4-8bc04039fb50"
      },
      "execution_count": null,
      "outputs": [
        {
          "output_type": "stream",
          "name": "stdout",
          "text": [
            "Enter the first value: 30\n",
            "Enter the second value: 40\n",
            "Enter the third value: 20\n",
            "Middile value =  30\n"
          ]
        }
      ]
    },
    {
      "cell_type": "code",
      "source": [
        "a=int(input('Enter the first value: '))\n",
        "b=int(input('Enter the second value: '))\n",
        "c=int(input('Enter the third value: '))\n",
        "print('Middile value = ',value(a,b,c))"
      ],
      "metadata": {
        "colab": {
          "base_uri": "https://localhost:8080/"
        },
        "id": "B4E-Vtk-3N7Z",
        "outputId": "bb1a6ccb-084b-467a-cfbb-b65e75c78ee5"
      },
      "execution_count": null,
      "outputs": [
        {
          "output_type": "stream",
          "name": "stdout",
          "text": [
            "Enter the first value: 45\n",
            "Enter the second value: 50\n",
            "Enter the third value: 10\n",
            "Middile value =  45\n"
          ]
        }
      ]
    },
    {
      "cell_type": "markdown",
      "source": [
        "question 2"
      ],
      "metadata": {
        "id": "K249x6uc3V4A"
      }
    },
    {
      "cell_type": "code",
      "source": [
        "def addition(a,b):\n",
        "    return float(a+b)\n",
        "def subtraction(a,b):\n",
        "    return float(a-b)\n",
        "def multiplication(a,b):\n",
        "    return float(a*b)\n",
        "def division(a,b):\n",
        "    return float(a/b)"
      ],
      "metadata": {
        "id": "fes4Bnqx6UwY"
      },
      "execution_count": null,
      "outputs": []
    },
    {
      "cell_type": "code",
      "source": [
        "print(\"Select Operations\")\n",
        "print(\n",
        "    \"1. Addition\\n\"\n",
        "    \"2. Subtraction\\n\"\n",
        "    \"3. Multiplication\\n\"\n",
        "    \"4. Division\\n\")\n",
        "operation = int(input(\"Enter choice of operation 1/2/3/4: \"))\n",
        "a = float(input(\"Enter the First Number: \"))\n",
        "b = float(input(\"Enter the Second Number: \"))\n",
        "if operation == 1:\n",
        "    print ('a+b=', addition (a, b))\n",
        "\n",
        "elif operation == 2:\n",
        "    print ('a-b= ', subtraction(a, b))\n",
        "\n",
        "elif operation == 3:\n",
        "    print ('a*b = ', multiplication(a, b))\n",
        "\n",
        "elif operation == 4:\n",
        "    print ('a/b= ', division(a, b))\n",
        "\n",
        "else:\n",
        "    print(\"Invalid Input\")"
      ],
      "metadata": {
        "colab": {
          "base_uri": "https://localhost:8080/"
        },
        "id": "3aTtMi6A4tfZ",
        "outputId": "9b236ddd-e92e-4662-fe54-d20b21c680f6"
      },
      "execution_count": null,
      "outputs": [
        {
          "output_type": "stream",
          "name": "stdout",
          "text": [
            "Select Operations\n",
            "1. Addition\n",
            "2. Subtraction\n",
            "3. Multiplication\n",
            "4. Division\n",
            "\n",
            "Enter choice of operation 1/2/3/4: 1\n",
            "Enter the First Number: 5\n",
            "Enter the Second Number: 3\n",
            "a+b= 8.0\n"
          ]
        }
      ]
    },
    {
      "cell_type": "code",
      "source": [
        "print(\"Select Operations\")\n",
        "print(\n",
        "    \"1. Addition\\n\"\n",
        "    \"2. Subtraction\\n\"\n",
        "    \"3. Multiplication\\n\"\n",
        "    \"4. Division\\n\")\n",
        "operation = int(input(\"Enter choice of operation 1/2/3/4: \"))\n",
        "a = float(input(\"Enter the First Number: \"))\n",
        "b = float(input(\"Enter the Second Number: \"))\n",
        "if operation == 1:\n",
        "    print ('a+b=', addition (a, b))\n",
        "\n",
        "elif operation == 2:\n",
        "    print ('a-b= ', subtraction(a, b))\n",
        "\n",
        "elif operation == 3:\n",
        "    print ('a*b = ', multiplication(a, b))\n",
        "\n",
        "elif operation == 4:\n",
        "    print ('a/b= ', division(a, b))\n",
        "\n",
        "else:\n",
        "    print(\"Invalid Input\")"
      ],
      "metadata": {
        "colab": {
          "base_uri": "https://localhost:8080/"
        },
        "id": "2c3Er71K8GjQ",
        "outputId": "73f55dc2-5571-499f-d541-047210e8291a"
      },
      "execution_count": null,
      "outputs": [
        {
          "output_type": "stream",
          "name": "stdout",
          "text": [
            "Select Operations\n",
            "1. Addition\n",
            "2. Subtraction\n",
            "3. Multiplication\n",
            "4. Division\n",
            "\n",
            "Enter choice of operation 1/2/3/4: 3\n",
            "Enter the First Number: 5\n",
            "Enter the Second Number: 3\n",
            "a*b =  15.0\n"
          ]
        }
      ]
    },
    {
      "cell_type": "markdown",
      "source": [
        "question 3"
      ],
      "metadata": {
        "id": "9srRT8TF8b6g"
      }
    },
    {
      "cell_type": "code",
      "source": [
        "def value(x,y):\n",
        "  h = (x**2+y**2)**0.5\n",
        "  return h"
      ],
      "metadata": {
        "id": "ZNrCy7N38d4w"
      },
      "execution_count": null,
      "outputs": []
    },
    {
      "cell_type": "code",
      "source": [
        "x=float(input('Enter the length of the triangle: '))\n",
        "y=float(input('Enter the height of the triangle: '))\n",
        "print('Hypotenus of the triangle= ', value(x,y))"
      ],
      "metadata": {
        "colab": {
          "base_uri": "https://localhost:8080/"
        },
        "id": "cF54G2Vz9D8_",
        "outputId": "8bd0f42f-371a-4500-b3ed-87af2d412d43"
      },
      "execution_count": null,
      "outputs": [
        {
          "output_type": "stream",
          "name": "stdout",
          "text": [
            "Enter the length of the triangle: 4\n",
            "Enter the height of the triangle: 3\n",
            "Hypotenus of the triangle=  5.0\n"
          ]
        }
      ]
    },
    {
      "cell_type": "markdown",
      "source": [
        "question 4"
      ],
      "metadata": {
        "id": "Iw8uQGN4-465"
      }
    },
    {
      "cell_type": "code",
      "source": [
        "def rectangle(a,b):\n",
        "  length = float(a)\n",
        "  return 'length of rectangle= ' , float(a)\n",
        "  width = float(b)\n",
        "  return 'width of rectangle= ' , float(b)\n",
        "def area (a,b):\n",
        "   return a*b\n",
        "def perimeter(a,b):\n",
        "   return (2*(a+b))"
      ],
      "metadata": {
        "id": "eJnGPI7HDd2B"
      },
      "execution_count": null,
      "outputs": []
    },
    {
      "cell_type": "code",
      "source": [
        "a= float(input('Enter the length of the rectangle : '))\n",
        "b=float(input('Enter the width of the rectangle : '))\n",
        "print ('Area Of the rectangle = ',area(a,b))\n"
      ],
      "metadata": {
        "colab": {
          "base_uri": "https://localhost:8080/"
        },
        "id": "TrLMGCXOEWXJ",
        "outputId": "a45dabab-5640-44fd-9a79-aca38532417c"
      },
      "execution_count": null,
      "outputs": [
        {
          "output_type": "stream",
          "name": "stdout",
          "text": [
            "Enter the length of the rectangle : 10\n",
            "Enter the width of the rectangle : 5\n",
            "Area Of the rectangle =  50.0\n"
          ]
        }
      ]
    },
    {
      "cell_type": "code",
      "source": [
        "a= float(input('Enter the length of the rectangle : '))\n",
        "b=float(input('Enter the width of the rectangle : '))\n",
        "print ('Perimeter Of the rectangle = ',perimeter (a,b))\n"
      ],
      "metadata": {
        "colab": {
          "base_uri": "https://localhost:8080/"
        },
        "id": "0dFq_9r_FzHo",
        "outputId": "b6a95f47-ae62-4871-a5ff-3eeab5887f63"
      },
      "execution_count": null,
      "outputs": [
        {
          "output_type": "stream",
          "name": "stdout",
          "text": [
            "Enter the length of the rectangle : 10\n",
            "Enter the width of the rectangle : 5\n",
            "Perimeter Of the rectangle =  30.0\n"
          ]
        }
      ]
    },
    {
      "cell_type": "markdown",
      "source": [
        "question 5"
      ],
      "metadata": {
        "id": "e7Nx2mFfGL8I"
      }
    }
  ]
}