{
  "nbformat": 4,
  "nbformat_minor": 0,
  "metadata": {
    "colab": {
      "provenance": []
    },
    "kernelspec": {
      "name": "python3",
      "display_name": "Python 3"
    },
    "language_info": {
      "name": "python"
    }
  },
  "cells": [
    {
      "cell_type": "markdown",
      "source": [
        "PRACTICE PROBLEM DAY 1"
      ],
      "metadata": {
        "id": "CH0O7OmkImrJ"
      }
    },
    {
      "cell_type": "code",
      "source": [
        "a=\"Hello, World!\"\n",
        "print(a[:5])"
      ],
      "metadata": {
        "colab": {
          "base_uri": "https://localhost:8080/"
        },
        "id": "IkFyB7KeIxUI",
        "outputId": "a1715c23-5402-4aff-816b-2725f9fa9e13"
      },
      "execution_count": null,
      "outputs": [
        {
          "output_type": "stream",
          "name": "stdout",
          "text": [
            "Hello\n"
          ]
        }
      ]
    },
    {
      "cell_type": "code",
      "source": [
        "b=\"Python is fun\"\n",
        "print(b[6:9])"
      ],
      "metadata": {
        "colab": {
          "base_uri": "https://localhost:8080/"
        },
        "id": "q5UgbReUJsA_",
        "outputId": "abf5907f-80d4-4d17-955d-02f01125abb9"
      },
      "execution_count": null,
      "outputs": [
        {
          "output_type": "stream",
          "name": "stdout",
          "text": [
            " is\n"
          ]
        }
      ]
    },
    {
      "cell_type": "code",
      "source": [
        "c=\"Programming\"\n",
        "print(c[3:7])"
      ],
      "metadata": {
        "colab": {
          "base_uri": "https://localhost:8080/"
        },
        "id": "QeXgnZdpKSON",
        "outputId": "7613d149-a3ab-4f10-944b-e788380bd75c"
      },
      "execution_count": null,
      "outputs": [
        {
          "output_type": "stream",
          "name": "stdout",
          "text": [
            "gram\n"
          ]
        }
      ]
    },
    {
      "cell_type": "code",
      "source": [
        "d=\"abcdefgh\"\n",
        "print(d[1::2])"
      ],
      "metadata": {
        "colab": {
          "base_uri": "https://localhost:8080/"
        },
        "id": "JiS6b11zKm3S",
        "outputId": "15c7ea01-0fff-4d24-aaac-f2c125433a11"
      },
      "execution_count": null,
      "outputs": [
        {
          "output_type": "stream",
          "name": "stdout",
          "text": [
            "bdfh\n"
          ]
        }
      ]
    },
    {
      "cell_type": "code",
      "source": [
        "e=\"abcdefg\"\n",
        "print(e[-3:])"
      ],
      "metadata": {
        "colab": {
          "base_uri": "https://localhost:8080/"
        },
        "id": "bQXZrLaqK7jr",
        "outputId": "dd1fe9d9-3a61-47d4-8b73-10d7b5874f9b"
      },
      "execution_count": null,
      "outputs": [
        {
          "output_type": "stream",
          "name": "stdout",
          "text": [
            "efg\n"
          ]
        }
      ]
    },
    {
      "cell_type": "code",
      "source": [
        "f=\"Data Science\"\n",
        "print(f[-3:])"
      ],
      "metadata": {
        "colab": {
          "base_uri": "https://localhost:8080/"
        },
        "id": "q9rx7OA8LTCG",
        "outputId": "515a8f84-3448-4430-a030-75662c55a54a"
      },
      "execution_count": null,
      "outputs": [
        {
          "output_type": "stream",
          "name": "stdout",
          "text": [
            "nce\n"
          ]
        }
      ]
    },
    {
      "cell_type": "code",
      "source": [
        "g=\"abcdefghij\"\n",
        "print(g[1::2])"
      ],
      "metadata": {
        "colab": {
          "base_uri": "https://localhost:8080/"
        },
        "id": "n01KWzbhLhbL",
        "outputId": "8b6038e2-ed0a-484d-b05c-ada85a9860d0"
      },
      "execution_count": null,
      "outputs": [
        {
          "output_type": "stream",
          "name": "stdout",
          "text": [
            "bdfhj\n"
          ]
        }
      ]
    },
    {
      "cell_type": "code",
      "source": [
        "h=\"1234567890\"\n",
        "print(h[0::2])"
      ],
      "metadata": {
        "colab": {
          "base_uri": "https://localhost:8080/"
        },
        "id": "zVdZyv8aMEvj",
        "outputId": "0b0ca321-b8c2-4466-9842-26ac52cb685c"
      },
      "execution_count": null,
      "outputs": [
        {
          "output_type": "stream",
          "name": "stdout",
          "text": [
            "13579\n"
          ]
        }
      ]
    },
    {
      "cell_type": "code",
      "source": [
        "i=\"Hello\"\n",
        "print(i[-1:-6:-1])"
      ],
      "metadata": {
        "colab": {
          "base_uri": "https://localhost:8080/"
        },
        "id": "YQmEVQwkMWXZ",
        "outputId": "16bcf67b-eb99-4b72-9187-b11dd5510a95"
      },
      "execution_count": null,
      "outputs": [
        {
          "output_type": "stream",
          "name": "stdout",
          "text": [
            "olleH\n"
          ]
        }
      ]
    },
    {
      "cell_type": "code",
      "source": [
        "j=\"abcdefghijk\"\n",
        "print(j[:11:2])"
      ],
      "metadata": {
        "colab": {
          "base_uri": "https://localhost:8080/"
        },
        "id": "o_Lah01HMjrg",
        "outputId": "2dfd3cbb-61ee-40c1-addf-48dea7e72b5b"
      },
      "execution_count": null,
      "outputs": [
        {
          "output_type": "stream",
          "name": "stdout",
          "text": [
            "acegik\n"
          ]
        }
      ]
    }
  ]
}