{
  "nbformat": 4,
  "nbformat_minor": 0,
  "metadata": {
    "colab": {
      "provenance": [],
      "authorship_tag": "ABX9TyNcgPhmI3eIkWvgLUx1xEYT",
      "include_colab_link": true
    },
    "kernelspec": {
      "name": "python3",
      "display_name": "Python 3"
    },
    "language_info": {
      "name": "python"
    }
  },
  "cells": [
    {
      "cell_type": "markdown",
      "metadata": {
        "id": "view-in-github",
        "colab_type": "text"
      },
      "source": [
        "<a href=\"https://colab.research.google.com/github/ASWATHYRR/DAY1/blob/main/day2_assignment.ipynb\" target=\"_parent\"><img src=\"https://colab.research.google.com/assets/colab-badge.svg\" alt=\"Open In Colab\"/></a>"
      ]
    },
    {
      "cell_type": "code",
      "execution_count": 1,
      "metadata": {
        "colab": {
          "base_uri": "https://localhost:8080/"
        },
        "id": "cBt_spwJg5hF",
        "outputId": "aa688b89-3e31-40ec-d95d-66684d59c49b"
      },
      "outputs": [
        {
          "output_type": "stream",
          "name": "stdout",
          "text": [
            "sum of the all elements= 12\n",
            "sum of the all elements= 27\n",
            "sum of the all elements= 45\n",
            "sum of the all elements= 68\n"
          ]
        }
      ],
      "source": [
        "total=0\n",
        "list1=[12,15,18,23]\n",
        "for ele in range(0,len(list1)):\n",
        "    total = total + list1[ele]\n",
        "    print(\"sum of the all elements=\",total)"
      ]
    },
    {
      "cell_type": "code",
      "source": [
        "b=\"hello python\"\n",
        "print(len(b))"
      ],
      "metadata": {
        "colab": {
          "base_uri": "https://localhost:8080/"
        },
        "id": "KqgtuvW_mSO3",
        "outputId": "9637327f-ea5c-404a-a2cd-fbf06a3c09d7"
      },
      "execution_count": 10,
      "outputs": [
        {
          "output_type": "stream",
          "name": "stdout",
          "text": [
            "12\n"
          ]
        }
      ]
    },
    {
      "cell_type": "code",
      "source": [
        "print(b[:5])"
      ],
      "metadata": {
        "colab": {
          "base_uri": "https://localhost:8080/"
        },
        "id": "fyM_Chrvq0NP",
        "outputId": "8748113e-2b68-4c20-e000-43f47f34fbc6"
      },
      "execution_count": 11,
      "outputs": [
        {
          "output_type": "stream",
          "name": "stdout",
          "text": [
            "hello\n"
          ]
        }
      ]
    },
    {
      "cell_type": "code",
      "source": [
        "a=tuple((78,45,32,19,82,77,40,39))\n",
        "print(a)"
      ],
      "metadata": {
        "colab": {
          "base_uri": "https://localhost:8080/"
        },
        "id": "QnDaro1Lr5YJ",
        "outputId": "2f71832c-ea72-4412-bded-e3273ea8eed1"
      },
      "execution_count": 12,
      "outputs": [
        {
          "output_type": "stream",
          "name": "stdout",
          "text": [
            "(78, 45, 32, 19, 82, 77, 40, 39)\n"
          ]
        }
      ]
    },
    {
      "cell_type": "code",
      "source": [
        "y=list(a)\n",
        "y[2]=100\n",
        "a=tuple(y)\n",
        "print(a)"
      ],
      "metadata": {
        "colab": {
          "base_uri": "https://localhost:8080/"
        },
        "id": "8cgukNSguqE_",
        "outputId": "2a23cb81-3dcc-4c4a-af75-ead7501f3c65"
      },
      "execution_count": 15,
      "outputs": [
        {
          "output_type": "stream",
          "name": "stdout",
          "text": [
            "(78, 45, 100, 19, 82, 77, 40, 39)\n"
          ]
        }
      ]
    },
    {
      "cell_type": "code",
      "source": [
        "a=(19,32,10,55,31,32,94,29,10,65,77,40,40)\n",
        "y=list(a)\n",
        "y.remove(32)\n",
        "b=tuple(y)\n",
        "print(b)"
      ],
      "metadata": {
        "colab": {
          "base_uri": "https://localhost:8080/"
        },
        "id": "gpXjVMy-xGlw",
        "outputId": "b11d3718-4f68-459a-8cb1-b62355a3e92f"
      },
      "execution_count": 16,
      "outputs": [
        {
          "output_type": "stream",
          "name": "stdout",
          "text": [
            "(19, 10, 55, 31, 32, 94, 29, 10, 65, 77, 40, 40)\n"
          ]
        }
      ]
    },
    {
      "cell_type": "code",
      "source": [
        "del y[11:13]\n",
        "b=tuple(y)\n",
        "print(b)"
      ],
      "metadata": {
        "colab": {
          "base_uri": "https://localhost:8080/"
        },
        "id": "j5LueLnwxLwz",
        "outputId": "670d7649-8461-45ad-e27d-46e3ad2e8b5c"
      },
      "execution_count": 35,
      "outputs": [
        {
          "output_type": "stream",
          "name": "stdout",
          "text": [
            "(19, 32, 200, 55, 31, 32, 94, 29, 10, 65, 77)\n"
          ]
        }
      ]
    },
    {
      "cell_type": "code",
      "source": [
        "del y[5]\n",
        "b=tuple(y)\n",
        "print(b)"
      ],
      "metadata": {
        "colab": {
          "base_uri": "https://localhost:8080/"
        },
        "id": "Ztb5Mnxkxlo8",
        "outputId": "8272a921-c40d-47a4-d379-1c973682e44f"
      },
      "execution_count": 36,
      "outputs": [
        {
          "output_type": "stream",
          "name": "stdout",
          "text": [
            "(19, 32, 200, 55, 31, 94, 29, 10, 65, 77)\n"
          ]
        }
      ]
    },
    {
      "cell_type": "code",
      "source": [
        "y[9]=300\n",
        "b=tuple(y)\n",
        "print(b)"
      ],
      "metadata": {
        "colab": {
          "base_uri": "https://localhost:8080/"
        },
        "id": "jEYv2IODzIX_",
        "outputId": "ae525ea8-dfb0-4da2-b96b-2d80332448fc"
      },
      "execution_count": 37,
      "outputs": [
        {
          "output_type": "stream",
          "name": "stdout",
          "text": [
            "(19, 32, 200, 55, 31, 94, 29, 10, 65, 300)\n"
          ]
        }
      ]
    },
    {
      "cell_type": "code",
      "source": [
        "y[2]=200\n",
        "b=tuple(y)\n",
        "print(b)"
      ],
      "metadata": {
        "colab": {
          "base_uri": "https://localhost:8080/"
        },
        "id": "3PhCx3tU-Iyw",
        "outputId": "5ad2a629-3d2c-44ed-f7a1-271a5bdd1338"
      },
      "execution_count": 38,
      "outputs": [
        {
          "output_type": "stream",
          "name": "stdout",
          "text": [
            "(19, 32, 200, 55, 31, 94, 29, 10, 65, 300)\n"
          ]
        }
      ]
    },
    {
      "cell_type": "code",
      "source": [
        "c=len(b)\n",
        "print(c)"
      ],
      "metadata": {
        "colab": {
          "base_uri": "https://localhost:8080/"
        },
        "id": "zD8ULhBk-3yf",
        "outputId": "ed25d9e5-cf30-4917-a242-c7c57bf6c982"
      },
      "execution_count": 39,
      "outputs": [
        {
          "output_type": "stream",
          "name": "stdout",
          "text": [
            "10\n"
          ]
        }
      ]
    },
    {
      "cell_type": "code",
      "source": [
        "string = \"The day has been long\"\n",
        "print(string*4)"
      ],
      "metadata": {
        "colab": {
          "base_uri": "https://localhost:8080/"
        },
        "id": "p4OOTR0AE5jd",
        "outputId": "09885fa2-fa6f-4aaf-ea25-e2a5a7ead2db"
      },
      "execution_count": 59,
      "outputs": [
        {
          "output_type": "stream",
          "name": "stdout",
          "text": [
            "The day has been longThe day has been longThe day has been longThe day has been long\n"
          ]
        }
      ]
    },
    {
      "cell_type": "code",
      "source": [
        "print('The day has been long\\n'*3)\n"
      ],
      "metadata": {
        "colab": {
          "base_uri": "https://localhost:8080/"
        },
        "id": "5jCTCIf_GLew",
        "outputId": "c16581d3-3e39-41e3-8aa7-faf8284df265"
      },
      "execution_count": 63,
      "outputs": [
        {
          "output_type": "stream",
          "name": "stdout",
          "text": [
            "The day has been long\n",
            "The day has been long\n",
            "The day has been long\n",
            "\n"
          ]
        }
      ]
    },
    {
      "cell_type": "code",
      "source": [
        "b=(string[4:15])\n",
        "print(b)"
      ],
      "metadata": {
        "colab": {
          "base_uri": "https://localhost:8080/"
        },
        "id": "vO2e6DtWHxv5",
        "outputId": "52dc6e29-336d-4904-fd1d-70e0e33dda0e"
      },
      "execution_count": 66,
      "outputs": [
        {
          "output_type": "stream",
          "name": "stdout",
          "text": [
            "day has bee\n"
          ]
        }
      ]
    },
    {
      "cell_type": "code",
      "source": [
        "print(len(b))"
      ],
      "metadata": {
        "colab": {
          "base_uri": "https://localhost:8080/"
        },
        "id": "VZxqm51xH8OS",
        "outputId": "64475b08-3df9-4edb-ad04-c8f632dbff38"
      },
      "execution_count": 67,
      "outputs": [
        {
          "output_type": "stream",
          "name": "stdout",
          "text": [
            "11\n"
          ]
        }
      ]
    }
  ]
}